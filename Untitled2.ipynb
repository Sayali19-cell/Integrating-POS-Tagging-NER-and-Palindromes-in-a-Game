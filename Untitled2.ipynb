{
  "nbformat": 4,
  "nbformat_minor": 0,
  "metadata": {
    "colab": {
      "provenance": [],
      "authorship_tag": "ABX9TyPcAs09fSQZnA5bKmil1R3d",
      "include_colab_link": true
    },
    "kernelspec": {
      "name": "python3",
      "display_name": "Python 3"
    },
    "language_info": {
      "name": "python"
    }
  },
  "cells": [
    {
      "cell_type": "markdown",
      "metadata": {
        "id": "view-in-github",
        "colab_type": "text"
      },
      "source": [
        "<a href=\"https://colab.research.google.com/github/Sayali19-cell/Integrating-POS-Tagging-NER-and-Palindromes-in-a-Game/blob/main/Untitled2.ipynb\" target=\"_parent\"><img src=\"https://colab.research.google.com/assets/colab-badge.svg\" alt=\"Open In Colab\"/></a>"
      ]
    },
    {
      "cell_type": "code",
      "execution_count": 14,
      "metadata": {
        "colab": {
          "base_uri": "https://localhost:8080/"
        },
        "id": "CrJwQHYJA8jW",
        "outputId": "53262895-817a-43e5-bae4-ab07ea01c7d3"
      },
      "outputs": [
        {
          "output_type": "stream",
          "name": "stderr",
          "text": [
            "[nltk_data] Downloading package punkt to /root/nltk_data...\n",
            "[nltk_data]   Package punkt is already up-to-date!\n",
            "[nltk_data] Downloading package averaged_perceptron_tagger to\n",
            "[nltk_data]     /root/nltk_data...\n",
            "[nltk_data]   Unzipping taggers/averaged_perceptron_tagger.zip.\n"
          ]
        },
        {
          "output_type": "stream",
          "name": "stdout",
          "text": [
            "\n",
            "POS Tagging Challenge:\n",
            "Sentence: The radar detected a level of activity in New York City.\n",
            "POS Tags: [('The', 'DT'), ('radar', 'NN'), ('detected', 'VBD'), ('a', 'DT'), ('level', 'NN'), ('of', 'IN'), ('activity', 'NN'), ('in', 'IN'), ('New', 'NNP'), ('York', 'NNP'), ('City', 'NNP'), ('.', '.')]\n",
            "Sentence: Anna and Bob went to the mall.\n",
            "POS Tags: [('Anna', 'NNP'), ('and', 'CC'), ('Bob', 'NNP'), ('went', 'VBD'), ('to', 'TO'), ('the', 'DT'), ('mall', 'NN'), ('.', '.')]\n"
          ]
        }
      ],
      "source": [
        "import nltk\n",
        "from nltk import pos_tag, word_tokenize\n",
        "\n",
        "# Download the required NLTK resources\n",
        "nltk.download('punkt')\n",
        "nltk.download('averaged_perceptron_tagger')\n",
        "\n",
        "# Function to perform POS tagging\n",
        "def pos_tagging(sentence):\n",
        "    tokens = word_tokenize(sentence)\n",
        "    return pos_tag(tokens)\n",
        "\n",
        "# Sample sentences for the POS Tagging Challenge\n",
        "sentences = [\n",
        "    \"The radar detected a level of activity in New York City.\",\n",
        "    \"Anna and Bob went to the mall.\",\n",
        "]\n",
        "\n",
        "# Game logic for POS Tagging Challenge\n",
        "def play_game():\n",
        "    print(\"\\nPOS Tagging Challenge:\")\n",
        "    for sentence in sentences:\n",
        "        print(f\"Sentence: {sentence}\")\n",
        "        print(f\"POS Tags: {pos_tagging(sentence)}\")\n",
        "\n",
        "if __name__ == \"__main__\":\n",
        "    play_game()\n"
      ]
    },
    {
      "cell_type": "code",
      "source": [],
      "metadata": {
        "id": "WN0fX_Z7A9tL"
      },
      "execution_count": 11,
      "outputs": []
    },
    {
      "cell_type": "code",
      "source": [],
      "metadata": {
        "id": "x8l4jShqB35V"
      },
      "execution_count": 14,
      "outputs": []
    }
  ]
}